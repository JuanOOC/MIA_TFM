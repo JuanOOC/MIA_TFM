{
 "cells": [
  {
   "cell_type": "code",
   "execution_count": null,
   "id": "745985a0",
   "metadata": {},
   "outputs": [],
   "source": [
    "import pandas as pd\n",
    "import matplotlib.pyplot as plt\n",
    "from datetime import datetime"
   ]
  },
  {
   "cell_type": "code",
   "execution_count": null,
   "id": "416a3352",
   "metadata": {},
   "outputs": [],
   "source": [
    "d_bit=pd.read_csv(\"TweetsEtiquetados-año.csv\")\n",
    "d_bit"
   ]
  },
  {
   "cell_type": "code",
   "execution_count": null,
   "id": "e669a8f9",
   "metadata": {},
   "outputs": [],
   "source": [
    "d_bit['date'] = pd.to_datetime(d_bit['date']).dt.tz_localize(None)\n",
    "tweets_grouped = d_bit.groupby([pd.Grouper(key='date', freq='M'), 'label']).size().unstack(fill_value=0)\n"
   ]
  },
  {
   "cell_type": "code",
   "execution_count": null,
   "id": "9bd26af6",
   "metadata": {},
   "outputs": [],
   "source": [
    "tweets_grouped"
   ]
  },
  {
   "cell_type": "code",
   "execution_count": null,
   "id": "8fe9d93e",
   "metadata": {},
   "outputs": [],
   "source": [
    "#Se agrupa el dataset por clase y fecha: año y mes\n",
    "#d_bit_agrupados=d_bit.groupby(['fechas','label'])['content'].count().reset_index()"
   ]
  },
  {
   "cell_type": "code",
   "execution_count": null,
   "id": "60d60b7b",
   "metadata": {},
   "outputs": [],
   "source": [
    "# se cogen solo las fechas desde 2013-01 a 2022-12\n",
    "d_filtradas= tweets_grouped.drop(tweets_grouped.index[125:])\n",
    "d_filtradas=d_filtradas.drop(d_filtradas.index[:6])"
   ]
  },
  {
   "cell_type": "code",
   "execution_count": null,
   "id": "662392f8",
   "metadata": {},
   "outputs": [],
   "source": [
    "#REllenamos el mes que falte con valor 0,0,0\n",
    "# Definir rango de fechas esperado\n",
    "start_date = '2013-01-01'\n",
    "end_date = '2022-12-31'\n",
    "expected_dates = pd.date_range(start=start_date, end=end_date, freq='M')\n",
    "\n",
    "# Reindexar el dataset tweets_grouped con el rango de fechas esperado y rellenar los valores faltantes con 0\n",
    "d_filtradas = d_filtradas.reindex(expected_dates, fill_value=0)\n"
   ]
  },
  {
   "cell_type": "code",
   "execution_count": null,
   "id": "bafd3ffb",
   "metadata": {},
   "outputs": [],
   "source": [
    "d_filtradas=d_filtradas.rename_axis('date').reset_index()"
   ]
  },
  {
   "cell_type": "code",
   "execution_count": null,
   "id": "9da94506",
   "metadata": {},
   "outputs": [],
   "source": [
    "#Para contar el número de comentarios por año\n",
    "\n",
    "#d_filtradas['tweets_total']=d_filtradas['N']+d_filtradas['NEU']+d_filtradas['P']\n",
    "#d_filtradas['año']=d_filtradas['date'].dt.year\n",
    "#suma_por_año = d_filtradas.groupby('año')['tweets_total'].sum()\n",
    "#suma_por_año"
   ]
  },
  {
   "cell_type": "code",
   "execution_count": null,
   "id": "1381ed42",
   "metadata": {},
   "outputs": [],
   "source": [
    "d_filtradas"
   ]
  },
  {
   "cell_type": "markdown",
   "id": "7f886454",
   "metadata": {},
   "source": [
    "## Añadir fichero bitcoin\n"
   ]
  },
  {
   "cell_type": "code",
   "execution_count": null,
   "id": "289b2d75",
   "metadata": {},
   "outputs": [],
   "source": [
    "d_grafica_bit=pd.read_csv('BTC_ALL_graph_coinmarketcap.csv', sep=';')\n",
    "d_grafica_bit"
   ]
  },
  {
   "cell_type": "code",
   "execution_count": null,
   "id": "1ee3717e",
   "metadata": {},
   "outputs": [],
   "source": [
    "d_grafica_bit['timestamp'] = pd.to_datetime(d_grafica_bit['timestamp']).dt.tz_localize(None)\n",
    "d_grafica_bit= d_grafica_bit.sort_values('timestamp')"
   ]
  },
  {
   "cell_type": "code",
   "execution_count": null,
   "id": "a1bd246b",
   "metadata": {},
   "outputs": [],
   "source": [
    "d_grafica_bit.rename(columns={'timestamp': 'date'},inplace=True)"
   ]
  },
  {
   "cell_type": "code",
   "execution_count": null,
   "id": "5922c31f",
   "metadata": {},
   "outputs": [],
   "source": [
    "d_grafica_bit"
   ]
  },
  {
   "cell_type": "code",
   "execution_count": null,
   "id": "c4a53122",
   "metadata": {},
   "outputs": [],
   "source": [
    "#filtramos solo al rango de años con tweets\n",
    "filtered_bitcoin_date= d_grafica_bit[(d_grafica_bit['date'] >= '2012-12-31') & (d_grafica_bit['date'] <= '2022-12-31')]"
   ]
  },
  {
   "cell_type": "code",
   "execution_count": null,
   "id": "f22e71e1",
   "metadata": {},
   "outputs": [],
   "source": [
    "bitcoin_mes = filtered_bitcoin_date.resample('M', on='date').mean()"
   ]
  },
  {
   "cell_type": "code",
   "execution_count": null,
   "id": "c5805d27",
   "metadata": {},
   "outputs": [],
   "source": [
    "bitcoin_mes"
   ]
  },
  {
   "cell_type": "code",
   "execution_count": null,
   "id": "ebbfd87c",
   "metadata": {},
   "outputs": [],
   "source": [
    "#Para sacar el precio medio anual\n",
    "#d_grafica_bit['año'] = d_grafica_bit['date'].dt.year\n",
    "#precio_anual = d_grafica_bit.groupby('año')['close'].mean()\n",
    "#precio_anual"
   ]
  },
  {
   "cell_type": "markdown",
   "id": "2b374f19",
   "metadata": {},
   "source": [
    "## Merge de datasets\n"
   ]
  },
  {
   "cell_type": "code",
   "execution_count": null,
   "id": "4211314e",
   "metadata": {},
   "outputs": [],
   "source": [
    "# Combinar los datos de tweets y Bitcoin en un solo DataFrame basado en la fecha\n",
    "combined_data = pd.merge(d_filtradas, bitcoin_mes, on='date')\n",
    "\n",
    "# Calcular la correlación entre las columnas de tweets y el precio del Bitcoin\n",
    "correlation = combined_data[['P', 'N', 'NEU', 'close']].corr()\n",
    "\n",
    "# Visualizar la matriz de correlación\n",
    "plt.figure(figsize=(8, 6))\n",
    "plt.imshow(correlation, cmap='coolwarm', interpolation='nearest')\n",
    "plt.colorbar()\n",
    "plt.title('Correlación entre tweets y precio del Bitcoin')\n",
    "plt.xticks(range(correlation.shape[0]), correlation.columns, rotation=45)\n",
    "plt.yticks(range(correlation.shape[1]), correlation.columns)\n",
    "plt.show()\n"
   ]
  },
  {
   "cell_type": "code",
   "execution_count": null,
   "id": "e6403a82",
   "metadata": {},
   "outputs": [],
   "source": [
    "combined_data"
   ]
  },
  {
   "cell_type": "code",
   "execution_count": null,
   "id": "78b5f873",
   "metadata": {},
   "outputs": [],
   "source": [
    "combined_data=combined_data[['date','N','NEU','P','close']]"
   ]
  },
  {
   "cell_type": "code",
   "execution_count": null,
   "id": "fe737678",
   "metadata": {},
   "outputs": [],
   "source": [
    "combined_data"
   ]
  },
  {
   "cell_type": "markdown",
   "id": "9c7df5f0",
   "metadata": {},
   "source": [
    "## Gráfica lineal"
   ]
  },
  {
   "cell_type": "code",
   "execution_count": null,
   "id": "c2058f0b",
   "metadata": {},
   "outputs": [],
   "source": [
    "#NORMALIZACION DE LOS DATOS\n",
    "from sklearn.preprocessing import MinMaxScaler\n",
    "\n",
    "# Crear un nuevo DataFrame con las columnas seleccionadas\n",
    "data_to_normalize = combined_data[['N', 'P', 'NEU', 'close']]\n",
    "\n",
    "scaler = MinMaxScaler()\n",
    "\n",
    "# Aplicar la normalización a los datos seleccionados\n",
    "normalized_data = pd.DataFrame(scaler.fit_transform(data_to_normalize), columns=data_to_normalize.columns)\n",
    "\n",
    "# Unir los datos normalizados con la columna 'date'\n",
    "normalized_data = pd.concat([combined_data['date'], normalized_data], axis=1)\n"
   ]
  },
  {
   "cell_type": "code",
   "execution_count": null,
   "id": "419b55aa",
   "metadata": {},
   "outputs": [],
   "source": [
    "normalized_data"
   ]
  },
  {
   "cell_type": "code",
   "execution_count": null,
   "id": "83f098b5",
   "metadata": {},
   "outputs": [],
   "source": [
    "import matplotlib.pyplot as plt\n",
    "\n",
    "# Crear la figura y los ejes del gráfico\n",
    "fig, ax = plt.subplots()\n",
    "\n",
    "# Graficar la serie de sentimiento negativo\n",
    "ax.plot(normalized_data['date'], normalized_data['N'], label='Sentimiento Negativo')\n",
    "\n",
    "# Graficar la serie de sentimiento positivo\n",
    "ax.plot(normalized_data['date'], normalized_data['P'], label='Sentimiento Positivo')\n",
    "\n",
    "# Graficar la serie de sentimiento neutro\n",
    "ax.plot(normalized_data['date'], normalized_data['NEU'], label='Sentimiento Neutro')\n",
    "\n",
    "# Graficar la serie del valor medio de cierre\n",
    "ax.plot(normalized_data['date'], normalized_data['close'], label='Valor Medio de Cierre')\n",
    "\n",
    "# Etiquetas de los ejes\n",
    "ax.set_xlabel('Fecha')\n",
    "ax.set_ylabel('Valor')\n",
    "\n",
    "# Título del gráfico\n",
    "ax.set_title('Análisis de Sentimiento y Valor Medio de Cierre')\n",
    "\n",
    "# Mostrar leyenda\n",
    "ax.legend()\n",
    "\n",
    "# Rotar las etiquetas del eje x para una mejor visualización\n",
    "plt.xticks(rotation=45)\n",
    "\n",
    "# Mostrar el gráfico\n",
    "plt.show()\n"
   ]
  },
  {
   "cell_type": "code",
   "execution_count": null,
   "id": "0065cb9a",
   "metadata": {},
   "outputs": [],
   "source": [
    "import matplotlib.pyplot as plt\n",
    "\n",
    "# Crear una figura y subgráficos individuales\n",
    "fig, axs = plt.subplots(3, 1, figsize=(8, 12))\n",
    "\n",
    "# Configurar los subgráficos\n",
    "sentimientos = ['N', 'P', 'NEU']\n",
    "colores = ['red', 'green', 'blue']\n",
    "\n",
    "# Graficar cada sentimiento con el precio de cierre\n",
    "for i, sentimiento in enumerate(sentimientos):\n",
    "    ax = axs[i]\n",
    "    \n",
    "    # Graficar el sentimiento\n",
    "    ax.plot(normalized_data['date'], normalized_data[sentimiento], color=colores[i], label=sentimiento.capitalize())\n",
    "    \n",
    "    # Graficar el precio de cierre\n",
    "    ax.plot(normalized_data['date'], normalized_data['close'], color='black', label='Precio de Medio MES')\n",
    "    \n",
    "    # Etiquetas de los ejes\n",
    "    ax.set_xlabel('Fecha')\n",
    "    ax.set_ylabel('Valor')\n",
    "    \n",
    "    # Título del subgráfico\n",
    "    ax.set_title(f'Análisis de Sentimiento vs. Precio de Cierre ({sentimiento.capitalize()})')\n",
    "    \n",
    "    # Mostrar leyenda\n",
    "    ax.legend()\n",
    "\n",
    "# Ajustar los espacios entre subgráficos\n",
    "fig.tight_layout()\n",
    "\n",
    "# Mostrar los gráficos\n",
    "plt.show()\n"
   ]
  },
  {
   "cell_type": "markdown",
   "id": "6504b040",
   "metadata": {},
   "source": [
    "## Cálculo de estadísticas descriptivas:"
   ]
  },
  {
   "cell_type": "code",
   "execution_count": null,
   "id": "ab12e318",
   "metadata": {},
   "outputs": [],
   "source": [
    "import numpy as np\n",
    "\n",
    "# Calcular estadísticas descriptivas para cada sentimiento\n",
    "positivo_stats = combined_data['P'].describe()\n",
    "negativo_stats = combined_data['N'].describe()\n",
    "neutro_stats = combined_data['NEU'].describe()\n",
    "\n",
    "# Imprimir las estadísticas descriptivas\n",
    "print(\"Estadísticas descriptivas del Sentimiento Positivo:\")\n",
    "print(positivo_stats)\n",
    "print()\n",
    "\n",
    "print(\"Estadísticas descriptivas del Sentimiento Negativo:\")\n",
    "print(negativo_stats)\n",
    "print()\n",
    "\n",
    "print(\"Estadísticas descriptivas del Sentimiento Neutro:\")\n",
    "print(neutro_stats)\n",
    "print()\n"
   ]
  },
  {
   "cell_type": "markdown",
   "id": "932e9f81",
   "metadata": {},
   "source": [
    "## Grafico de disperción\n"
   ]
  },
  {
   "cell_type": "code",
   "execution_count": null,
   "id": "63537fc3",
   "metadata": {},
   "outputs": [],
   "source": [
    "import seaborn as sns\n",
    "\n",
    "# Crear un DataFrame con las columnas de interés\n",
    "data_for_correlation = normalized_data[[ 'P', 'N','NEU', 'close']]\n",
    "\n",
    "# Calcular la matriz de correlación\n",
    "correlation_matrix = data_for_correlation.corr()\n",
    "\n",
    "# Crear un gráfico de dispersión de las variables de interés\n",
    "sns.pairplot(data_for_correlation)\n",
    "plt.show()\n",
    "\n",
    "# Mostrar la matriz de correlación como un mapa de calor\n",
    "plt.figure(figsize=(8, 6))\n",
    "sns.heatmap(correlation_matrix, annot=True, cmap='coolwarm')\n",
    "plt.title('Matriz de correlación entre Sentimiento y Precio de Cierre')\n",
    "plt.show()\n"
   ]
  },
  {
   "cell_type": "code",
   "execution_count": null,
   "id": "13dccbbb",
   "metadata": {},
   "outputs": [],
   "source": [
    "# Contar el número de comentarios por sentimiento\n",
    "num_negativos = combined_data['N'].sum()\n",
    "num_positivos = combined_data['P'].sum()\n",
    "num_neutros = combined_data['NEU'].sum()\n",
    "\n",
    "# Imprimir los resultados\n",
    "print(\"Número de comentarios negativos:\", num_negativos)\n",
    "print(\"Número de comentarios positivos:\", num_positivos)\n",
    "print(\"Número de comentarios neutros:\", num_neutros)\n"
   ]
  },
  {
   "cell_type": "markdown",
   "id": "ff435877",
   "metadata": {},
   "source": [
    "## Grafica respecto a la variacion del precio mes a mes"
   ]
  },
  {
   "cell_type": "code",
   "execution_count": null,
   "id": "06c497f2",
   "metadata": {},
   "outputs": [],
   "source": [
    "import pandas as pd\n",
    "import numpy as np\n",
    "import matplotlib.pyplot as plt\n",
    "\n",
    "# Calcular la variación del precio de cierre entre mes y mes\n",
    "combined_data['variacion_precio'] = combined_data['close'].pct_change()\n"
   ]
  },
  {
   "cell_type": "code",
   "execution_count": null,
   "id": "1abe6eae",
   "metadata": {},
   "outputs": [],
   "source": [
    "combined_data['variacion_precio'].describe()"
   ]
  },
  {
   "cell_type": "code",
   "execution_count": null,
   "id": "21e986dd",
   "metadata": {},
   "outputs": [],
   "source": [
    "\n",
    "# Graficar la relación entre la cantidad de comentarios y la variación del precio\n",
    "plt.figure(figsize=(10, 6))\n",
    "#plt.scatter(combined_data['N'], combined_data['variacion_precio'], label='Negativo')\n",
    "#plt.scatter(combined_data['P'], combined_data['variacion_precio'], label='Positivo')\n",
    "plt.scatter(combined_data['NEU'], combined_data['variacion_precio'], label='Neutro')\n",
    "plt.xlabel('Cantidad de Comentarios')\n",
    "plt.ylabel('Variación del Precio de Cierre')\n",
    "plt.title('Relación entre Cantidad de Comentarios y Variación del Precio')\n",
    "plt.legend()\n",
    "plt.show()\n",
    "\n",
    "# Calcular la correlación entre la cantidad de comentarios y la variación del precio\n",
    "correlation = combined_data[['N', 'P', 'NEU', 'variacion_precio']].corr()\n",
    "\n",
    "# Imprimir la matriz de correlación\n",
    "print(\"Matriz de correlación:\")\n",
    "print(correlation)\n"
   ]
  },
  {
   "cell_type": "code",
   "execution_count": null,
   "id": "66adc6f7",
   "metadata": {},
   "outputs": [],
   "source": [
    "import pandas as pd\n",
    "\n",
    "combined_data['clasificacion'] = ''\n",
    "\n",
    "# Clasificación mes a mes\n",
    "for index, row in combined_data.iterrows():\n",
    "    clasificacion = ''\n",
    "    if row['N'] > row['P'] and row['N'] >= row['NEU']:\n",
    "        clasificacion = 'Negativo'\n",
    "    elif row['P'] > row['N'] and row['P'] >= row['NEU']:\n",
    "        clasificacion = 'Positivo'\n",
    "    else:\n",
    "        clasificacion = 'Neutro'\n",
    "    \n",
    "    combined_data.at[index, 'clasificacion'] = clasificacion\n",
    "\n",
    "print(combined_data[['date', 'N', 'P', 'NEU', 'clasificacion']])\n"
   ]
  },
  {
   "cell_type": "code",
   "execution_count": null,
   "id": "b5ca4458",
   "metadata": {},
   "outputs": [],
   "source": [
    "combined_data['clasificacion'] \n",
    "# Contar el número de comentarios por sentimiento\n",
    "num_negativos = combined_data[combined_data['clasificacion'] == 'Negativo']\n",
    "num_positivos = combined_data[combined_data['clasificacion'] == 'Positivo']\n",
    "num_neutros = combined_data[combined_data['clasificacion'] == 'Neutro']\n",
    "\n",
    "# Imprimir los resultados\n",
    "print(\"Número de meses negativos:\", len(num_negativos))\n",
    "print(\"Número de meses positivos:\", len(num_positivos))\n",
    "print(\"Número de meses neutros:\", len(num_neutros))"
   ]
  },
  {
   "cell_type": "code",
   "execution_count": null,
   "id": "f089230f",
   "metadata": {},
   "outputs": [],
   "source": [
    "import pandas as pd\n",
    "import matplotlib.pyplot as plt\n",
    "\n",
    "# Graficar la variación del precio en función de la clase mensual etiquetada\n",
    "plt.figure(figsize=(10, 6))\n",
    "plt.scatter(combined_data[combined_data['clasificacion'] == 'Negativo']['variacion_precio'], \n",
    "            combined_data[combined_data['clasificacion'] == 'Negativo']['clasificacion'], \n",
    "            color='red', label='Negativo')\n",
    "plt.scatter(combined_data[combined_data['clasificacion'] == 'Positivo']['variacion_precio'], \n",
    "            combined_data[combined_data['clasificacion'] == 'Positivo']['clasificacion'], \n",
    "            color='green', label='Positivo')\n",
    "plt.scatter(combined_data[combined_data['clasificacion'] == 'Neutro']['variacion_precio'], \n",
    "            combined_data[combined_data['clasificacion'] == 'Neutro']['clasificacion'], \n",
    "            color='blue', label='Neutro')\n",
    "plt.xlabel('Variación del Precio')\n",
    "plt.ylabel('Clase Mensual Etiquetada')\n",
    "plt.title('Comparación de la Variación del Precio con la Clase Mensual Etiquetada')\n",
    "plt.legend()\n",
    "plt.show()\n"
   ]
  },
  {
   "cell_type": "code",
   "execution_count": null,
   "id": "8f5815e8",
   "metadata": {},
   "outputs": [],
   "source": [
    "import pandas as pd\n",
    "import matplotlib.pyplot as plt\n",
    "\n",
    "# Calcular el promedio de la variación del precio por cada clase mensual\n",
    "mean_variation = combined_data.groupby('clasificacion')['variacion_precio'].mean()\n",
    "\n",
    "# Crear un gráfico de barras para comparar la variación del precio por clase mensual\n",
    "plt.figure(figsize=(10, 6))\n",
    "plt.bar(mean_variation.index, mean_variation)\n",
    "plt.xlabel('Clase Mensual Etiquetada')\n",
    "plt.ylabel('Promedio de Variación del Precio')\n",
    "plt.title('Comparación de la Variación del Precio por Clase Mensual Etiquetada')\n",
    "plt.ylim(min(mean_variation) - 0.05)\n",
    "plt.show()\n"
   ]
  },
  {
   "cell_type": "code",
   "execution_count": null,
   "id": "63e3f4b7",
   "metadata": {},
   "outputs": [],
   "source": [
    "import pandas as pd\n",
    "\n",
    "# Filtrar los meses con clasificación positiva y variación de precio positiva\n",
    "positive_months = combined_data[combined_data['clasificacion'] == 'Positivo']\n",
    "positive_price_increase = positive_months[positive_months['variacion_precio']<0]\n",
    "\n",
    "# Calcular el porcentaje de coincidencia\n",
    "percentage = len(positive_price_increase) / len(positive_months) * 100\n",
    "\n",
    "# Imprimir el resultado\n",
    "print(\"Porcentaje de meses negativos con variación de precio Positivo: {:.2f}%\".format(percentage))\n",
    "\n",
    "# Crear una figura y ejes para el gráfico de dispersión\n",
    "fig, ax = plt.subplots(figsize=(10, 6))\n",
    "\n",
    "# Graficar los puntos para los meses positivos y aumento de precio\n",
    "ax.scatter(positive_price_increase['date'], positive_price_increase['variacion_precio'], color='green')\n",
    "\n",
    "# Etiquetas y título del gráfico\n",
    "ax.set_xlabel('Fecha')\n",
    "ax.set_ylabel('Variación del Precio')\n",
    "ax.set_title('Meses Positivos con Aumento de Precio')\n",
    "\n",
    "# Mostrar el gráfico\n",
    "plt.show()\n"
   ]
  },
  {
   "cell_type": "code",
   "execution_count": null,
   "id": "5878a9d9",
   "metadata": {},
   "outputs": [],
   "source": [
    "positive_price_increase"
   ]
  },
  {
   "cell_type": "code",
   "execution_count": null,
   "id": "03a4b42d",
   "metadata": {},
   "outputs": [],
   "source": [
    "negative_months = combined_data[combined_data['clasificacion'] == 'Negativo']\n",
    "positive_price_increase = positive_months[positive_months['variacion_precio'] < 0]\n",
    "# Calcular el porcentaje de coincidencia\n"
   ]
  },
  {
   "cell_type": "code",
   "execution_count": null,
   "id": "2dbaae5f",
   "metadata": {},
   "outputs": [],
   "source": [
    "\n",
    "len(positive_months)"
   ]
  },
  {
   "cell_type": "code",
   "execution_count": null,
   "id": "7365b787",
   "metadata": {},
   "outputs": [],
   "source": [
    "len(negative_months)"
   ]
  },
  {
   "cell_type": "code",
   "execution_count": null,
   "id": "2e5137d5",
   "metadata": {},
   "outputs": [],
   "source": [
    "# se pasa la fecha a formato datetime\n",
    "d_filtradas['fecha'] = pd.to_datetime(tweets_data['fecha'])\n",
    "bitcoin_data['fecha'] = pd.to_datetime(bitcoin_data['fecha'])"
   ]
  },
  {
   "cell_type": "code",
   "execution_count": null,
   "id": "0342136f",
   "metadata": {},
   "outputs": [],
   "source": [
    "import matplotlib.pyplot as plt\n",
    "\n",
    "# Supongamos que los datos están en un DataFrame llamado \"comentarios\"\n",
    "# con las columnas \"fecha\", \"comentario\" y \"etiqueta\"\n",
    "\n",
    "# Agrupamos los comentarios por fecha y etiqueta\n",
    "#comentarios_agrupados = d_filtradas.groupby(['fechas', 'label']).size().reset_index(name='cantidad')\n",
    "# Agrupamos los datos por fecha y clase y calculamos la suma del valor\n",
    "datos_agrupados  = d_filtradas.groupby(['fechas', 'label'])['content'].sum().reset_index()\n",
    "\n",
    "# Utilizamos la función pivot de pandas para reorganizar los datos en un dataframe\n",
    "datos_pivote  = datos_agrupados.pivot(index='fechas', columns='label', values='content')\n",
    "\n",
    "# Creamos la gráfica de líneas\n",
    "fig, ax = plt.subplots(figsize=(30,6))\n",
    "ax.plot(datos_pivote.index, datos_pivote['P'], label='P')\n",
    "ax.plot(datos_pivote.index, datos_pivote['NEU'], label='NEU')\n",
    "ax.plot(datos_pivote.index, datos_pivote['N'], label='N')\n",
    "\n",
    "# Gráficas superpuestas\n",
    "#plt.plot(datos_agrupados['fechas'], datos_pivote, label='sentimiento', color='red')\n",
    "#plt.plot(d_grafica_bit['fechas_mes'], valor_bitcoin, label='bitcoin')\n",
    "\n",
    "ax.legend()\n",
    "plt.xticks(rotation=90)\n",
    "\n",
    "\n",
    "plt.show()"
   ]
  },
  {
   "cell_type": "code",
   "execution_count": null,
   "id": "b870ca92",
   "metadata": {},
   "outputs": [],
   "source": [
    "datos_pivote.plot(kind='line')\n",
    "plt.title('Análisis de Sentimiento')\n",
    "plt.xlabel('Fecha')\n",
    "plt.ylabel('Número de Comentarios por clase')\n",
    "\n",
    "plt.xticks(rotation=90)\n",
    "\n",
    "\n",
    "plt.show()\n"
   ]
  },
  {
   "cell_type": "code",
   "execution_count": null,
   "id": "992882ea",
   "metadata": {},
   "outputs": [],
   "source": [
    "d_grafica_bit=pd.read_csv('BTC_ALL_graph_coinmarketcap.csv', sep=';')\n",
    "d_grafica_bit['timestamp'][0]"
   ]
  },
  {
   "cell_type": "code",
   "execution_count": null,
   "id": "6333479f",
   "metadata": {},
   "outputs": [],
   "source": [
    "fechas_b=[]\n",
    "for date in d_grafica_bit['timestamp']:\n",
    "    fechas_b.append((datetime.strptime(date, '%Y-%m-%dT%H:%M:%S.%fZ')).strftime('%Y-%m'))\n",
    "d_grafica_bit['fechas']=fechas_b"
   ]
  },
  {
   "cell_type": "code",
   "execution_count": null,
   "id": "1538c48c",
   "metadata": {},
   "outputs": [],
   "source": [
    "d_grafica_bit"
   ]
  },
  {
   "cell_type": "code",
   "execution_count": null,
   "id": "b5d57496",
   "metadata": {},
   "outputs": [],
   "source": [
    "fechas_coinmarket=[]\n",
    "formato = '%Y-%m-%dT%H:%M:%S.%fZ'\n",
    "for i in d_grafica_bit['timestamp']:\n",
    "    fechas_coinmarket.append((datetime.strptime(i, formato)).strftime('%Y-%m'))\n",
    "d_grafica_bit['fecha_mes']=fechas_coinmarket\n",
    "d_grafica_bit"
   ]
  },
  {
   "cell_type": "code",
   "execution_count": null,
   "id": "0c812eac",
   "metadata": {},
   "outputs": [],
   "source": [
    "d_grafica_bit=d_grafica_bit.groupby(['fechas'])['close'].mean().reset_index()\n",
    "d_grafica_bit"
   ]
  },
  {
   "cell_type": "code",
   "execution_count": null,
   "id": "a69752fd",
   "metadata": {},
   "outputs": [],
   "source": [
    "d_grafica_bit[d_grafica_bit['fechas']=='2023-01']"
   ]
  },
  {
   "cell_type": "code",
   "execution_count": null,
   "id": "912cfa10",
   "metadata": {},
   "outputs": [],
   "source": [
    "# se cogen solo las fechas desde 2013-01 a 2022-12\n",
    "d_grafica_bit= d_grafica_bit.drop(d_grafica_bit.index[:19])\n",
    "d_grafica_bit=d_grafica_bit.drop(d_grafica_bit.index[150:])"
   ]
  },
  {
   "cell_type": "code",
   "execution_count": null,
   "id": "869202fd",
   "metadata": {
    "scrolled": true
   },
   "outputs": [],
   "source": [
    "d_grafica_bit"
   ]
  },
  {
   "cell_type": "code",
   "execution_count": null,
   "id": "bec32ee0",
   "metadata": {},
   "outputs": [],
   "source": [
    "datos_pivote"
   ]
  },
  {
   "cell_type": "code",
   "execution_count": null,
   "id": "c4fe076c",
   "metadata": {},
   "outputs": [],
   "source": [
    "df_merged=pd.merge(d_grafica_bit, datos_pivote,on='fechas', how='outer')"
   ]
  },
  {
   "cell_type": "code",
   "execution_count": null,
   "id": "dd5fb992",
   "metadata": {},
   "outputs": [],
   "source": [
    "df_merged"
   ]
  },
  {
   "cell_type": "code",
   "execution_count": null,
   "id": "b0e58528",
   "metadata": {},
   "outputs": [],
   "source": [
    "from sklearn.preprocessing import MinMaxScaler"
   ]
  },
  {
   "cell_type": "code",
   "execution_count": null,
   "id": "af750274",
   "metadata": {},
   "outputs": [],
   "source": [
    "# Normalizar las columnas 'precio', 'comentarios_positivos', 'comentarios_negativos' y 'comentarios_neutros'\n",
    "scaler = MinMaxScaler()\n",
    "df_merged[['close', 'N', 'NEU', 'P']] = scaler.fit_transform(df_merged[['close', 'N', 'NEU', 'P']])\n",
    "\n",
    "# Imprimir el resultado\n",
    "df_merged"
   ]
  },
  {
   "cell_type": "code",
   "execution_count": null,
   "id": "a1b55f97",
   "metadata": {},
   "outputs": [],
   "source": [
    "# Crear una figura y un eje\n",
    "fig, ax = plt.subplots(figsize=(40,10))\n",
    "\n",
    "# Graficar el precio y los comentarios positivos\n",
    "ax.plot(df_merged['fecha_mes'], df_merged['close'], label='Precio')\n",
    "ax.plot(df_merged['fecha_mes'], df_merged['P'], label='P')\n",
    "ax.plot(df_merged['fecha_mes'], df_merged['NEU'], label='NEU')\n",
    "ax.plot(df_merged['fecha_mes'], df_merged['N'], label='N')\n",
    "# Agregar leyenda y títulos de ejes\n",
    "ax.legend()\n",
    "ax.set_xlabel('Fecha')\n",
    "ax.set_ylabel('Valor normalizado')\n",
    "ax.set_title('Precio y comentarios positivos')\n",
    "plt.xticks(rotation=90)\n",
    "# Mostrar la gráfica\n",
    "plt.show()\n"
   ]
  }
 ],
 "metadata": {
  "kernelspec": {
   "display_name": "Python 3 (ipykernel)",
   "language": "python",
   "name": "python3"
  },
  "language_info": {
   "codemirror_mode": {
    "name": "ipython",
    "version": 3
   },
   "file_extension": ".py",
   "mimetype": "text/x-python",
   "name": "python",
   "nbconvert_exporter": "python",
   "pygments_lexer": "ipython3",
   "version": "3.10.10"
  }
 },
 "nbformat": 4,
 "nbformat_minor": 5
}
