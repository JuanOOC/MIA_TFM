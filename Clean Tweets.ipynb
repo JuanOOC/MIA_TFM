{
 "cells": [
  {
   "cell_type": "code",
   "execution_count": null,
   "id": "4cd29244",
   "metadata": {},
   "outputs": [],
   "source": [
    "import pandas as pd"
   ]
  },
  {
   "cell_type": "code",
   "execution_count": null,
   "id": "b0ac4891",
   "metadata": {},
   "outputs": [],
   "source": [
    "#libreria para eliminar emojis\n",
    "pip install demoji"
   ]
  },
  {
   "cell_type": "code",
   "execution_count": null,
   "id": "594b8a79",
   "metadata": {},
   "outputs": [],
   "source": [
    "#se carga el dataset de tewwts\n",
    "df=pd.read_csv(\"Tweets_finales.csv\",on_bad_lines='skip', sep=\";\",encoding = \"ISO-8859-1\")"
   ]
  },
  {
   "cell_type": "code",
   "execution_count": null,
   "id": "56d819fd",
   "metadata": {},
   "outputs": [],
   "source": [
    "df"
   ]
  },
  {
   "cell_type": "code",
   "execution_count": null,
   "id": "2c9e830c",
   "metadata": {},
   "outputs": [],
   "source": [
    "import re\n",
    "import nltk\n",
    "from nltk.corpus import stopwords\n",
    "from nltk.tokenize import word_tokenize\n",
    "import demoji\n",
    "\n",
    "nltk.download('stopwords')\n",
    "nltk.download('punkt')\n",
    "\n",
    "def clean_tweet(tweet):\n",
    "    # Convertir a minúsculas\n",
    "    tweet = tweet.lower()\n",
    "\n",
    "    # Eliminar menciones de usuarios (@username)\n",
    "    tweet = re.sub(r'@\\w+', '', tweet)\n",
    "\n",
    "    # Eliminar enlaces (http:// o https://)\n",
    "    tweet = re.sub(r'http\\S+|https\\S+', '', tweet)\n",
    "\n",
    "    # Eliminar emojis\n",
    "    tweet = demoji.replace(tweet, '')\n",
    "\n",
    "    # Eliminar caracteres no alfanuméricos y espacios en blanco adicionales\n",
    "    tweet = re.sub(r'[^a-zA-Zá-úÁ-Ú\\s]', '', tweet)\n",
    "\n",
    "    # Tokenizar el tweet en palabras individuales\n",
    "    #tokens = word_tokenize(tweet)\n",
    "\n",
    "    # Eliminar stopwords (palabras comunes sin significado)\n",
    "    stop_words = set(stopwords.words('spanish'))  # Usar stopwords en español\n",
    "    tokens = [token for token in tokens if token not in stop_words]\n",
    "\n",
    "    # Unir las palabras limpias nuevamente en una cadena\n",
    "    clean_tweet = ' '.join(tokens)\n",
    "\n",
    "    return clean_tweet\n",
    "\n"
   ]
  },
  {
   "cell_type": "code",
   "execution_count": null,
   "id": "34cbbb62",
   "metadata": {},
   "outputs": [],
   "source": [
    "cleaned_tweet=[]\n",
    "for tweets in df['content']:\n",
    "    cleaned_tweet.append(clean_tweet(tweets))"
   ]
  },
  {
   "cell_type": "code",
   "execution_count": null,
   "id": "3b63fc5e",
   "metadata": {},
   "outputs": [],
   "source": [
    "df['content']=cleaned_tweet"
   ]
  },
  {
   "cell_type": "code",
   "execution_count": null,
   "id": "f6bbe0f0",
   "metadata": {},
   "outputs": [],
   "source": [
    "#se crea csv con los tweets limpios\n",
    "df.to_csv(\"cleanTweets.csv\")"
   ]
  },
  {
   "cell_type": "code",
   "execution_count": null,
   "id": "f8383f96",
   "metadata": {},
   "outputs": [],
   "source": []
  }
 ],
 "metadata": {
  "kernelspec": {
   "display_name": "Python 3 (ipykernel)",
   "language": "python",
   "name": "python3"
  },
  "language_info": {
   "codemirror_mode": {
    "name": "ipython",
    "version": 3
   },
   "file_extension": ".py",
   "mimetype": "text/x-python",
   "name": "python",
   "nbconvert_exporter": "python",
   "pygments_lexer": "ipython3",
   "version": "3.10.10"
  }
 },
 "nbformat": 4,
 "nbformat_minor": 5
}
