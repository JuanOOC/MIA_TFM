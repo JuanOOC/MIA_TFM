{
 "cells": [
  {
   "cell_type": "code",
   "execution_count": null,
   "id": "234e6ba8",
   "metadata": {},
   "outputs": [],
   "source": [
    "import torch\n",
    "from transformers import AdamW, AutoTokenizer, AutoModelForSequenceClassification, DataCollatorWithPadding\n",
    "import pandas as pd\n",
    "from datasets import load_dataset"
   ]
  },
  {
   "cell_type": "code",
   "execution_count": null,
   "id": "e471edd4",
   "metadata": {},
   "outputs": [],
   "source": [
    "data_files = {\"train\": \"dataset_final_train_val.csv\", \"test\": \"Dataset_final-test.csv\"}\n",
    "df = load_dataset(\"csv\", data_files=data_files)\n",
    "\n",
    "checkpoint = \"finiteautomata/beto-sentiment-analysis\"\n",
    "tokenizer = AutoTokenizer.from_pretrained(checkpoint)\n",
    "\n",
    "def tokenize_function(example):\n",
    "    return tokenizer(example[\"content\"],truncation=True)\n",
    "\n",
    "\n",
    "tokenized_datasets = df.map(tokenize_function, batched=True)\n",
    "data_collator = DataCollatorWithPadding(tokenizer=tokenizer)"
   ]
  },
  {
   "cell_type": "code",
   "execution_count": null,
   "id": "a92d2709",
   "metadata": {},
   "outputs": [],
   "source": [
    "df"
   ]
  },
  {
   "cell_type": "code",
   "execution_count": null,
   "id": "a94d5a29",
   "metadata": {},
   "outputs": [],
   "source": [
    "tokenized_datasets"
   ]
  },
  {
   "cell_type": "code",
   "execution_count": null,
   "id": "3932591c",
   "metadata": {},
   "outputs": [],
   "source": [
    "tokenized_datasets = tokenized_datasets.remove_columns([\"Unnamed: 0\", \"tweetid\", \"content\"])\n",
    "tokenized_datasets = tokenized_datasets.rename_column(\"label\", \"labels\")\n",
    "tokenized_datasets.set_format(\"torch\")\n",
    "tokenized_datasets[\"train\"].column_names"
   ]
  },
  {
   "cell_type": "code",
   "execution_count": null,
   "id": "805caf5f",
   "metadata": {},
   "outputs": [],
   "source": [
    "tokenized_datasets['train'][0]"
   ]
  },
  {
   "cell_type": "code",
   "execution_count": null,
   "id": "b4fd0915",
   "metadata": {},
   "outputs": [],
   "source": [
    "from torch.utils.data import DataLoader\n",
    "\n",
    "train_dataloader = DataLoader(\n",
    "    tokenized_datasets[\"train\"], shuffle=True, batch_size=8, collate_fn=data_collator\n",
    ")\n",
    "#eval_dataloader = DataLoader(\n",
    "#    tokenized_datasets[\"validation\"], batch_size=8, collate_fn=data_collator\n",
    "#)\n",
    "eval_test= DataLoader(\n",
    "    tokenized_datasets[\"test\"], batch_size=8, collate_fn=data_collator\n",
    ")"
   ]
  },
  {
   "cell_type": "code",
   "execution_count": null,
   "id": "ab0d6274",
   "metadata": {},
   "outputs": [],
   "source": [
    "for batch in train_dataloader:\n",
    "    break\n",
    "{k: v.shape for k, v in batch.items()}"
   ]
  },
  {
   "cell_type": "code",
   "execution_count": null,
   "id": "99bf24ab",
   "metadata": {},
   "outputs": [],
   "source": [
    "model = AutoModelForSequenceClassification.from_pretrained(checkpoint, num_labels=3)"
   ]
  },
  {
   "cell_type": "code",
   "execution_count": null,
   "id": "05740d8e",
   "metadata": {},
   "outputs": [],
   "source": [
    "outputs = model(**batch)\n",
    "print(outputs.loss, outputs.logits.shape)"
   ]
  },
  {
   "cell_type": "code",
   "execution_count": null,
   "id": "4dd28093",
   "metadata": {},
   "outputs": [],
   "source": [
    "from transformers import AdamW\n",
    "\n",
    "optimizer = torch.optim.AdamW(model.parameters(), lr=5e-5)"
   ]
  },
  {
   "cell_type": "code",
   "execution_count": null,
   "id": "a22e38f1",
   "metadata": {},
   "outputs": [],
   "source": [
    "#Para crear la devaluacion del Learning rate\n",
    "from transformers import get_scheduler\n",
    "\n",
    "num_epochs = 10\n",
    "num_training_steps = num_epochs * len(train_dataloader)\n",
    "lr_scheduler = get_scheduler(\n",
    "    \"linear\",\n",
    "    optimizer=optimizer,\n",
    "    num_warmup_steps=0,\n",
    "    num_training_steps=num_training_steps,\n",
    ")\n",
    "print(num_training_steps)"
   ]
  },
  {
   "cell_type": "code",
   "execution_count": null,
   "id": "366c116f",
   "metadata": {},
   "outputs": [],
   "source": [
    "import torch\n",
    "\n",
    "device = torch.device(\"cuda\") if torch.cuda.is_available() else torch.device(\"cpu\")\n",
    "model.to(device)\n",
    "device"
   ]
  },
  {
   "cell_type": "code",
   "execution_count": null,
   "id": "917af09d",
   "metadata": {},
   "outputs": [],
   "source": [
    "## Para ver la progresion durante el entrenamiento\n",
    "from tqdm.auto import tqdm\n",
    "\n",
    "progress_bar = tqdm(range(num_training_steps))\n",
    "\n",
    "model.train()\n",
    "for epoch in range(num_epochs):\n",
    "    for batch in train_dataloader:\n",
    "        batch = {k: v.to(device) for k, v in batch.items()}\n",
    "        outputs = model(**batch)\n",
    "        loss = outputs.loss\n",
    "        loss.backward()\n",
    "\n",
    "        optimizer.step()\n",
    "        lr_scheduler.step()\n",
    "        optimizer.zero_grad()\n",
    "        progress_bar.update(1)"
   ]
  },
  {
   "cell_type": "code",
   "execution_count": null,
   "id": "38295cb7",
   "metadata": {},
   "outputs": [],
   "source": [
    "#Metrica para medir resultados obtenidos por batches\n",
    "import evaluate\n",
    "\n",
    "metric = evaluate.load(\"accuracy\")\n",
    "model.eval()\n",
    "for batch in eval_test:\n",
    "    batch = {k: v.to(device) for k, v in batch.items()}\n",
    "    with torch.no_grad():\n",
    "        outputs = model(**batch)\n",
    "\n",
    "    logits = outputs.logits\n",
    "    predictions = torch.argmax(logits, dim=-1)\n",
    "    metric.add_batch(predictions=predictions, references=batch[\"labels\"])\n",
    "\n",
    "metric.compute()"
   ]
  },
  {
   "cell_type": "markdown",
   "id": "586a6e28",
   "metadata": {},
   "source": [
    "## Prueba con Tweets Bitcoin"
   ]
  },
  {
   "cell_type": "code",
   "execution_count": null,
   "id": "db443558",
   "metadata": {},
   "outputs": [],
   "source": [
    "# abrimos el dataset\n",
    "#data_files = {\"test_bitcoin\": \"Prueba dataset bitcoin.csv\"}\n",
    "data_bit = load_dataset(\"csv\", data_files={\"test_bitcoin\": \"cleanTweets.csv\"})\n",
    "data_bit"
   ]
  },
  {
   "cell_type": "code",
   "execution_count": null,
   "id": "6aeb9943",
   "metadata": {},
   "outputs": [],
   "source": [
    "tokenized_data_test = data_bit.map(tokenize_function, batched=True)"
   ]
  },
  {
   "cell_type": "code",
   "execution_count": null,
   "id": "0d148973",
   "metadata": {},
   "outputs": [],
   "source": [
    "tokenized_data_test"
   ]
  },
  {
   "cell_type": "code",
   "execution_count": null,
   "id": "0b06d96b",
   "metadata": {},
   "outputs": [],
   "source": [
    "tokenized_data_test = tokenized_data_test.remove_columns([ 'Unnamed: 0',\"id\", 'date',\"content\"])\n",
    "tokenized_data_test.set_format(\"torch\")\n",
    "tokenized_data_test[\"test_bitcoin\"].column_names"
   ]
  },
  {
   "cell_type": "code",
   "execution_count": null,
   "id": "b3ac8420",
   "metadata": {},
   "outputs": [],
   "source": [
    "test_bitloader = DataLoader(\n",
    "    tokenized_data_test[\"test_bitcoin\"], shuffle=True, batch_size=8, collate_fn=data_collator\n",
    ")"
   ]
  },
  {
   "cell_type": "code",
   "execution_count": null,
   "id": "fae5cc74",
   "metadata": {},
   "outputs": [],
   "source": [
    "etiquetas=[]\n",
    "model.eval()\n",
    "for batch in test_bitloader:\n",
    "    batch = {k: v.to(device) for k, v in batch.items()}\n",
    "    with torch.no_grad():\n",
    "        outputs = model(**batch)\n",
    "\n",
    "    logits = outputs.logits\n",
    "    predictions = torch.argmax(logits, dim=-1)\n",
    "    etiquetas.extend(predictions.tolist())\n"
   ]
  },
  {
   "cell_type": "code",
   "execution_count": null,
   "id": "cafda7ff",
   "metadata": {},
   "outputs": [],
   "source": [
    "data_bit.set_format(\"pandas\")"
   ]
  },
  {
   "cell_type": "code",
   "execution_count": null,
   "id": "5c24d2a1",
   "metadata": {},
   "outputs": [],
   "source": [
    "data_bit"
   ]
  },
  {
   "cell_type": "code",
   "execution_count": null,
   "id": "688208ce",
   "metadata": {},
   "outputs": [],
   "source": [
    "d_bit=data_bit['test_bitcoin'][:]"
   ]
  },
  {
   "cell_type": "code",
   "execution_count": null,
   "id": "0f5f14ea",
   "metadata": {},
   "outputs": [],
   "source": [
    "d_bit['label']=etiquetas"
   ]
  },
  {
   "cell_type": "code",
   "execution_count": null,
   "id": "712719be",
   "metadata": {},
   "outputs": [],
   "source": [
    "d_bit['label'].replace({ 0 : 'N', 1: \"NEU\", 2: \"P\"}, inplace=True)"
   ]
  },
  {
   "cell_type": "code",
   "execution_count": null,
   "id": "4174605c",
   "metadata": {},
   "outputs": [],
   "source": [
    "from datetime import datetime"
   ]
  },
  {
   "cell_type": "code",
   "execution_count": null,
   "id": "3c9fa4c6",
   "metadata": {},
   "outputs": [],
   "source": [
    "fechas=[]\n",
    "for date in d_bit['date']:\n",
    "    fechas.append((datetime.strptime(date, '%d/%m/%Y %H:%M')).strftime('%Y-%m'))"
   ]
  },
  {
   "cell_type": "code",
   "execution_count": null,
   "id": "a2195a79",
   "metadata": {},
   "outputs": [],
   "source": [
    "d_bit['fechas']=fechas\n",
    "d_bit.to_csv(\"TweetsEtiquetados-año.csv\")"
   ]
  },
  {
   "cell_type": "code",
   "execution_count": null,
   "id": "cd35272e",
   "metadata": {},
   "outputs": [],
   "source": [
    "d_bit['label']"
   ]
  }
 ],
 "metadata": {
  "kernelspec": {
   "display_name": "Python 3 (ipykernel)",
   "language": "python",
   "name": "python3"
  },
  "language_info": {
   "codemirror_mode": {
    "name": "ipython",
    "version": 3
   },
   "file_extension": ".py",
   "mimetype": "text/x-python",
   "name": "python",
   "nbconvert_exporter": "python",
   "pygments_lexer": "ipython3",
   "version": "3.10.10"
  }
 },
 "nbformat": 4,
 "nbformat_minor": 5
}
