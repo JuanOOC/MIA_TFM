{
 "cells": [
  {
   "cell_type": "code",
   "execution_count": null,
   "id": "e0919c6d",
   "metadata": {},
   "outputs": [],
   "source": [
    "import snscrape.modules.twitter as sntwitter\n",
    "import pandas as pd\n",
    "## Para ver la progresion durante el entrenamiento\n",
    "import time\n",
    "\n",
    "def buscar_tweets(query, start_date, end_date, tweets_año):\n",
    "    '''\n",
    "    Función para buscar tweets en un rango de fechas específico con un número máximo de tweets por semana.\n",
    "    query: Término de búsqueda en Twitter.\n",
    "    start_date: Fecha de inicio de la búsqueda (en formato 'YYYY-MM-DD').\n",
    "    end_date: Fecha de fin de la búsqueda (en formato 'YYYY-MM-DD').\n",
    "    tweets_per_week: Número máximo de tweets a recuperar por semana.\n",
    "    '''\n",
    "    # Lista para almacenar los resultados de búsqueda\n",
    "    tweets = []\n",
    "    \n",
    "    # Ciclo para recorrer todos los años dentro del rango de fechas\n",
    "    for i in pd.date_range(start_date, end_date, freq='Y'):\n",
    "        # Establecer la fecha de inicio y fin\n",
    "        since = i.strftime('%Y-%m-%d')\n",
    "        print(since)\n",
    "        #como es busqueda por año se le suma 365 dias a\n",
    "        until = (i + pd.Timedelta(days=365)).strftime('%Y-%m-%d')\n",
    "        print(until)\n",
    "        # Búsqueda de tweets para el año actual\n",
    "        #query_str = f'{query} until:{until} since:{since} -filter:links -filter:replies lang:es geocode:40.33077,-2.56748,600km'\n",
    "        query_str = f'{query} until:{until} since:{since} -filter:replies lang:es geocode:40.33077,-2.56748,600km'\n",
    "        print(query_str)\n",
    "        for i,tweet in enumerate(sntwitter.TwitterSearchScraper(query_str).get_items()):\n",
    "            if i>tweets_año:\n",
    "                break\n",
    "                \n",
    "            tweets.append({\n",
    "                'id': tweet.id,\n",
    "                'date': tweet.date.strftime('%Y-%m-%d %H:%M:%S'),\n",
    "                'content': tweet.rawContent\n",
    "            })\n",
    "            print(tweet.date.strftime('%Y-%m-%d %H:%M:%S'))\n",
    "    \n",
    "    # Devolver la lista de tweets\n",
    "    return tweets\n"
   ]
  },
  {
   "cell_type": "code",
   "execution_count": null,
   "id": "5c5e5968",
   "metadata": {},
   "outputs": [],
   "source": [
    " for i in pd.date_range( '2012-01-01', '2022-12-31', freq='Y'):\n",
    "        print(i)"
   ]
  },
  {
   "cell_type": "code",
   "execution_count": null,
   "id": "cc2b4821",
   "metadata": {},
   "outputs": [],
   "source": [
    "start_time = time.time()\n",
    "\n",
    "tweets = buscar_tweets('bitcoin', '2012-01-01', '2022-12-31', 10000000)\n",
    "\n",
    "end_time = time.time()\n",
    "elapsed_time = end_time - start_time\n",
    "print(\"Tiempo de compilación:\", elapsed_time, \"segundos\")"
   ]
  },
  {
   "cell_type": "code",
   "execution_count": null,
   "id": "73a5d363",
   "metadata": {},
   "outputs": [],
   "source": [
    "for t in tweets:\n",
    "    print(t['content'])\n",
    "    print(t['date'])"
   ]
  },
  {
   "cell_type": "code",
   "execution_count": null,
   "id": "eb61a46a",
   "metadata": {},
   "outputs": [],
   "source": [
    "len(tweets)"
   ]
  },
  {
   "cell_type": "code",
   "execution_count": null,
   "id": "c3fcd755",
   "metadata": {},
   "outputs": [],
   "source": [
    "import pandas as pd\n",
    "df=pd.DataFrame(tweets)"
   ]
  },
  {
   "cell_type": "code",
   "execution_count": null,
   "id": "8ea7265b",
   "metadata": {},
   "outputs": [],
   "source": [
    "df"
   ]
  },
  {
   "cell_type": "code",
   "execution_count": null,
   "id": "724ae6c0",
   "metadata": {},
   "outputs": [],
   "source": [
    "df.to_csv('Tweets_finales.csv')"
   ]
  }
 ],
 "metadata": {
  "kernelspec": {
   "display_name": "Python 3 (ipykernel)",
   "language": "python",
   "name": "python3"
  },
  "language_info": {
   "codemirror_mode": {
    "name": "ipython",
    "version": 3
   },
   "file_extension": ".py",
   "mimetype": "text/x-python",
   "name": "python",
   "nbconvert_exporter": "python",
   "pygments_lexer": "ipython3",
   "version": "3.10.10"
  }
 },
 "nbformat": 4,
 "nbformat_minor": 5
}
