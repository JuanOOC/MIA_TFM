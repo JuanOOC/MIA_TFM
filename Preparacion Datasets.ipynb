{
 "cells": [
  {
   "cell_type": "markdown",
   "id": "e5621d2f",
   "metadata": {},
   "source": [
    "## InterTASS 2018 DATASET"
   ]
  },
  {
   "cell_type": "code",
   "execution_count": 1,
   "id": "3616ea26",
   "metadata": {},
   "outputs": [],
   "source": [
    "import pandas as pd\n",
    "import xml.etree.ElementTree as et"
   ]
  },
  {
   "cell_type": "code",
   "execution_count": 2,
   "id": "0da77212",
   "metadata": {},
   "outputs": [],
   "source": [
    "# Funcion para extraer el valor polarity del dataset en formato xml\n",
    "def to_dataframe(xml_path):\n",
    "    etree=et.parse(xml_path)\n",
    "    eroot=etree.getroot()\n",
    "    lista_sent=[]\n",
    "    for i in eroot.iter('value'):\n",
    "        lista_sent.append(i.text)\n",
    "    return lista_sent"
   ]
  },
  {
   "cell_type": "code",
   "execution_count": 3,
   "id": "94e7c8f0",
   "metadata": {},
   "outputs": [],
   "source": [
    "#Se pasa a pandas los dataset\n",
    "d_train=pd.read_xml(\"2018 InterTass_Train.xml\")\n",
    "d_train[\"label\"]=to_dataframe(\"2018 InterTass_Train.xml\")\n",
    "\n",
    "d_dev=pd.read_xml(\"intertass-ES-development-tagged.xml\")\n",
    "d_dev[\"label\"]=to_dataframe(\"intertass-ES-development-tagged.xml\")"
   ]
  },
  {
   "cell_type": "code",
   "execution_count": 4,
   "id": "ec2c748c",
   "metadata": {},
   "outputs": [
    {
     "data": {
      "text/html": [
       "<div>\n",
       "<style scoped>\n",
       "    .dataframe tbody tr th:only-of-type {\n",
       "        vertical-align: middle;\n",
       "    }\n",
       "\n",
       "    .dataframe tbody tr th {\n",
       "        vertical-align: top;\n",
       "    }\n",
       "\n",
       "    .dataframe thead th {\n",
       "        text-align: right;\n",
       "    }\n",
       "</style>\n",
       "<table border=\"1\" class=\"dataframe\">\n",
       "  <thead>\n",
       "    <tr style=\"text-align: right;\">\n",
       "      <th></th>\n",
       "      <th>tweetid</th>\n",
       "      <th>user</th>\n",
       "      <th>content</th>\n",
       "      <th>date</th>\n",
       "      <th>lang</th>\n",
       "      <th>sentiment</th>\n",
       "      <th>label</th>\n",
       "    </tr>\n",
       "  </thead>\n",
       "  <tbody>\n",
       "    <tr>\n",
       "      <th>0</th>\n",
       "      <td>768213876278165504</td>\n",
       "      <td>OnceBukowski</td>\n",
       "      <td>-Me caes muy bien \\n-Tienes que jugar más part...</td>\n",
       "      <td>2016-08-23 22:30:35</td>\n",
       "      <td>es</td>\n",
       "      <td>NaN</td>\n",
       "      <td>NONE</td>\n",
       "    </tr>\n",
       "    <tr>\n",
       "      <th>1</th>\n",
       "      <td>768213567418036224</td>\n",
       "      <td>anahorxn</td>\n",
       "      <td>@myendlesshazza a. que puto mal escribo\\n\\nb. ...</td>\n",
       "      <td>2016-08-23 22:29:21</td>\n",
       "      <td>es</td>\n",
       "      <td>NaN</td>\n",
       "      <td>N</td>\n",
       "    </tr>\n",
       "    <tr>\n",
       "      <th>2</th>\n",
       "      <td>768212591105703936</td>\n",
       "      <td>martitarey13</td>\n",
       "      <td>@estherct209 jajajaja la tuya y la d mucha gen...</td>\n",
       "      <td>2016-08-23 22:25:29</td>\n",
       "      <td>es</td>\n",
       "      <td>NaN</td>\n",
       "      <td>N</td>\n",
       "    </tr>\n",
       "    <tr>\n",
       "      <th>3</th>\n",
       "      <td>768221670255493120</td>\n",
       "      <td>endlessmilerr</td>\n",
       "      <td>Quiero mogollón a @AlbaBenito99 pero sobretodo...</td>\n",
       "      <td>2016-08-23 23:01:33</td>\n",
       "      <td>es</td>\n",
       "      <td>NaN</td>\n",
       "      <td>P</td>\n",
       "    </tr>\n",
       "    <tr>\n",
       "      <th>4</th>\n",
       "      <td>768221021300264964</td>\n",
       "      <td>JunoWTFL</td>\n",
       "      <td>Vale he visto la tia bebiendose su regla y me ...</td>\n",
       "      <td>2016-08-23 22:58:58</td>\n",
       "      <td>es</td>\n",
       "      <td>NaN</td>\n",
       "      <td>N</td>\n",
       "    </tr>\n",
       "    <tr>\n",
       "      <th>...</th>\n",
       "      <td>...</td>\n",
       "      <td>...</td>\n",
       "      <td>...</td>\n",
       "      <td>...</td>\n",
       "      <td>...</td>\n",
       "      <td>...</td>\n",
       "      <td>...</td>\n",
       "    </tr>\n",
       "    <tr>\n",
       "      <th>1003</th>\n",
       "      <td>814846333601320960</td>\n",
       "      <td>jdomperfects</td>\n",
       "      <td>Para mí mi mejor año fue el 2015</td>\n",
       "      <td>2016-12-30 14:51:19</td>\n",
       "      <td>es</td>\n",
       "      <td>NaN</td>\n",
       "      <td>P</td>\n",
       "    </tr>\n",
       "    <tr>\n",
       "      <th>1004</th>\n",
       "      <td>813731371076243461</td>\n",
       "      <td>GonzaloRoman_91</td>\n",
       "      <td>Hoy va a ser un dia muy largo...</td>\n",
       "      <td>2016-12-27 13:00:51</td>\n",
       "      <td>es</td>\n",
       "      <td>NaN</td>\n",
       "      <td>N</td>\n",
       "    </tr>\n",
       "    <tr>\n",
       "      <th>1005</th>\n",
       "      <td>818399956792905728</td>\n",
       "      <td>vaneftdallas</td>\n",
       "      <td>11:11 que no me encuentre mal</td>\n",
       "      <td>2017-01-09 10:12:09</td>\n",
       "      <td>es</td>\n",
       "      <td>NaN</td>\n",
       "      <td>NEU</td>\n",
       "    </tr>\n",
       "    <tr>\n",
       "      <th>1006</th>\n",
       "      <td>815715581878009858</td>\n",
       "      <td>carmen_ligero</td>\n",
       "      <td>Es que son muy bonitas jo</td>\n",
       "      <td>2017-01-02 00:25:24</td>\n",
       "      <td>es</td>\n",
       "      <td>NaN</td>\n",
       "      <td>P</td>\n",
       "    </tr>\n",
       "    <tr>\n",
       "      <th>1007</th>\n",
       "      <td>816978031357161476</td>\n",
       "      <td>carmen_ligero</td>\n",
       "      <td>Que no jo que no soy tan irresponsable</td>\n",
       "      <td>2017-01-05 12:01:56</td>\n",
       "      <td>es</td>\n",
       "      <td>NaN</td>\n",
       "      <td>P</td>\n",
       "    </tr>\n",
       "  </tbody>\n",
       "</table>\n",
       "<p>1008 rows × 7 columns</p>\n",
       "</div>"
      ],
      "text/plain": [
       "                 tweetid             user   \n",
       "0     768213876278165504     OnceBukowski  \\\n",
       "1     768213567418036224         anahorxn   \n",
       "2     768212591105703936     martitarey13   \n",
       "3     768221670255493120    endlessmilerr   \n",
       "4     768221021300264964         JunoWTFL   \n",
       "...                  ...              ...   \n",
       "1003  814846333601320960     jdomperfects   \n",
       "1004  813731371076243461  GonzaloRoman_91   \n",
       "1005  818399956792905728     vaneftdallas   \n",
       "1006  815715581878009858    carmen_ligero   \n",
       "1007  816978031357161476    carmen_ligero   \n",
       "\n",
       "                                                content                 date   \n",
       "0     -Me caes muy bien \\n-Tienes que jugar más part...  2016-08-23 22:30:35  \\\n",
       "1     @myendlesshazza a. que puto mal escribo\\n\\nb. ...  2016-08-23 22:29:21   \n",
       "2     @estherct209 jajajaja la tuya y la d mucha gen...  2016-08-23 22:25:29   \n",
       "3     Quiero mogollón a @AlbaBenito99 pero sobretodo...  2016-08-23 23:01:33   \n",
       "4     Vale he visto la tia bebiendose su regla y me ...  2016-08-23 22:58:58   \n",
       "...                                                 ...                  ...   \n",
       "1003                   Para mí mi mejor año fue el 2015  2016-12-30 14:51:19   \n",
       "1004                   Hoy va a ser un dia muy largo...  2016-12-27 13:00:51   \n",
       "1005                      11:11 que no me encuentre mal  2017-01-09 10:12:09   \n",
       "1006                          Es que son muy bonitas jo  2017-01-02 00:25:24   \n",
       "1007             Que no jo que no soy tan irresponsable  2017-01-05 12:01:56   \n",
       "\n",
       "     lang  sentiment label  \n",
       "0      es        NaN  NONE  \n",
       "1      es        NaN     N  \n",
       "2      es        NaN     N  \n",
       "3      es        NaN     P  \n",
       "4      es        NaN     N  \n",
       "...   ...        ...   ...  \n",
       "1003   es        NaN     P  \n",
       "1004   es        NaN     N  \n",
       "1005   es        NaN   NEU  \n",
       "1006   es        NaN     P  \n",
       "1007   es        NaN     P  \n",
       "\n",
       "[1008 rows x 7 columns]"
      ]
     },
     "execution_count": 4,
     "metadata": {},
     "output_type": "execute_result"
    }
   ],
   "source": [
    "d_train"
   ]
  },
  {
   "cell_type": "markdown",
   "id": "6898b89b",
   "metadata": {},
   "source": [
    "## InterTASS 2019"
   ]
  },
  {
   "cell_type": "code",
   "execution_count": 5,
   "id": "3e9226fe",
   "metadata": {},
   "outputs": [],
   "source": [
    "#Se pasa a pandas los dataset\n",
    "d_train_2019=pd.read_xml(\"TASS2019_country_ES_train.xml\")\n",
    "d_train_2019[\"label\"]=to_dataframe(\"TASS2019_country_ES_train.xml\")\n",
    "\n",
    "d_dev_2019=pd.read_xml(\"TASS2019_country_ES_dev.xml\")\n",
    "d_dev_2019[\"label\"]=to_dataframe(\"TASS2019_country_ES_dev.xml\")"
   ]
  },
  {
   "cell_type": "markdown",
   "id": "2491facf",
   "metadata": {},
   "source": [
    "## InterTASS 2020"
   ]
  },
  {
   "cell_type": "code",
   "execution_count": 6,
   "id": "4e36149e",
   "metadata": {},
   "outputs": [],
   "source": [
    "#datasets task1 2020\n",
    "d_train_task1=pd.read_csv(\"2020_train.txt\", sep='\\t', names=['tweetid', 'content','label'])\n",
    "d_dev_task1=pd.read_csv(\"2020_dev.txt\", sep='\\t', names=['tweetid', 'content','label'])"
   ]
  },
  {
   "cell_type": "code",
   "execution_count": 7,
   "id": "79f8f341",
   "metadata": {},
   "outputs": [],
   "source": [
    "#datasets task2 2020 EMOCIONES\n",
    "d_train_task2=pd.read_csv(\"train_emociones_2020.txt\", sep='\\t')\n",
    "d_dev_task2=pd.read_csv(\"dev_emociones_2020.txt\", sep='\\t')\n",
    "d_completo_task2=pd.concat([d_train_task2, d_dev_task2])"
   ]
  },
  {
   "cell_type": "code",
   "execution_count": 8,
   "id": "04d339e8",
   "metadata": {},
   "outputs": [],
   "source": [
    "#Eliminamos espacios que puedan dar a error\n",
    "d_completo_task2['label'] = d_completo_task2['label'].str.strip()\n",
    "#reseteamos indices para poder operar con ellos, y eliminamos la columna de indices antigua\n",
    "d_completo_task2.reset_index(inplace=True)\n",
    "d_completo_task2.drop(['index'], axis=1,inplace=True)"
   ]
  },
  {
   "cell_type": "code",
   "execution_count": 9,
   "id": "8f2149a4",
   "metadata": {},
   "outputs": [],
   "source": [
    "#Se eliminan las emociones clasificadas como others o surprise, ya que no esta claro si son negativas o positivas\n",
    "d_completo_task2.drop(d_completo_task2[d_completo_task2.label==\"others\"].index , axis=0, inplace=True)\n",
    "d_completo_task2.drop(d_completo_task2[d_completo_task2.label==\"surprise\"].index , axis=0, inplace=True)\n",
    "\n",
    "# reducimos la columna label a positvo y negativo.\n",
    "#Joy es Positivo, y el resto Negativo\n",
    "d_completo_task2['label'].replace({\"joy\": 'P', \"sadness\": 'N', \"anger\": 'N', \"fear\": 'N', \"disgust\": 'N'}, inplace=True)"
   ]
  },
  {
   "cell_type": "code",
   "execution_count": 10,
   "id": "e500db6b",
   "metadata": {},
   "outputs": [],
   "source": [
    "d_completo_task2.columns=['tweetid', 'content', 'label' ]"
   ]
  },
  {
   "cell_type": "markdown",
   "id": "1f900fd7",
   "metadata": {},
   "source": [
    "\n",
    "## - TEST_2020_TASK1 Y SUS ETIQUETAS Y \n"
   ]
  },
  {
   "cell_type": "code",
   "execution_count": 11,
   "id": "2c92def3",
   "metadata": {},
   "outputs": [],
   "source": [
    "# el metodo merge encuentra la coincidencia del tweet id y añade la columna label bien correlacionada\n",
    "d_test_task1=pd.read_csv(\"test_2020_task1.txt\", sep='\\t', names=['tweetid', 'content'])\n",
    "d_tag_test_task1=pd.read_csv(\"etiquetas test task1 2020.txt\", sep='\\t', names=['tweetid', 'label'])\n",
    "junt=pd.merge(d_test_task1,d_tag_test_task1)"
   ]
  },
  {
   "cell_type": "markdown",
   "id": "33b559a8",
   "metadata": {},
   "source": [
    "## - TASK1.2 TEST 2020 Y SUS ETIQUETAS"
   ]
  },
  {
   "cell_type": "code",
   "execution_count": 12,
   "id": "cac0262e",
   "metadata": {},
   "outputs": [],
   "source": [
    "d_test_task12=pd.read_csv(\"task1.2 test 2020.txt\", sep='\\t', names=['tweetid', 'content'])\n",
    "d_tag_test_task12=pd.read_csv(\"task1.2-test-gold (1).tsv\", sep='\\t', names=['tweetid', 'label'])\n",
    "junt2=pd.merge(d_test_task1,d_tag_test_task1)"
   ]
  },
  {
   "cell_type": "markdown",
   "id": "ad6f14c9",
   "metadata": {},
   "source": [
    "## DATASET HUGGING FACE"
   ]
  },
  {
   "cell_type": "code",
   "execution_count": 13,
   "id": "9c11e4ce",
   "metadata": {},
   "outputs": [
    {
     "name": "stderr",
     "output_type": "stream",
     "text": [
      "Found cached dataset tweet_sentiment_multilingual (C:/Users/Juan/.cache/huggingface/datasets/cardiffnlp___tweet_sentiment_multilingual/spanish/0.1.0/936afd3cde120393429606f681b3b48d526873c45114068973f71e296ce80605)\n"
     ]
    },
    {
     "data": {
      "application/vnd.jupyter.widget-view+json": {
       "model_id": "7764a078c1044614a84e337750dbfd73",
       "version_major": 2,
       "version_minor": 0
      },
      "text/plain": [
       "  0%|          | 0/3 [00:00<?, ?it/s]"
      ]
     },
     "metadata": {},
     "output_type": "display_data"
    },
    {
     "data": {
      "text/plain": [
       "DatasetDict({\n",
       "    train: Dataset({\n",
       "        features: ['text', 'label'],\n",
       "        num_rows: 1839\n",
       "    })\n",
       "    validation: Dataset({\n",
       "        features: ['text', 'label'],\n",
       "        num_rows: 324\n",
       "    })\n",
       "    test: Dataset({\n",
       "        features: ['text', 'label'],\n",
       "        num_rows: 870\n",
       "    })\n",
       "})"
      ]
     },
     "execution_count": 13,
     "metadata": {},
     "output_type": "execute_result"
    }
   ],
   "source": [
    "from datasets import load_dataset\n",
    "raw_datasets = load_dataset(\"cardiffnlp/tweet_sentiment_multilingual\", 'spanish')\n",
    "raw_datasets\n"
   ]
  },
  {
   "cell_type": "code",
   "execution_count": 14,
   "id": "dd285e80",
   "metadata": {},
   "outputs": [],
   "source": [
    "#Pasamos a dataframe los train\n",
    "tweets_train=raw_datasets['train']['text']\n",
    "labels_train=raw_datasets['train']['label']\n",
    "d_hug_train = pd.DataFrame(list(zip(tweets_train, labels_train)),columns =['content','label'])\n",
    "\n",
    "#Pasamos a dataframe los validation\n",
    "tweets_val=raw_datasets['validation']['text']\n",
    "labels_val=raw_datasets['validation']['label']\n",
    "d_hug_val = pd.DataFrame(list(zip(tweets_val, labels_val)),columns =['content','label'])\n",
    "\n",
    "\n",
    "#Pasamos a dataframe los test\n",
    "tweets_test=raw_datasets['test']['text']\n",
    "labels_test=raw_datasets['test']['label']\n",
    "d_hug_test = pd.DataFrame(list(zip(tweets_test, labels_test)),columns =['content','label'])\n"
   ]
  },
  {
   "cell_type": "code",
   "execution_count": 15,
   "id": "1e0a832a",
   "metadata": {},
   "outputs": [
    {
     "data": {
      "text/html": [
       "<div>\n",
       "<style scoped>\n",
       "    .dataframe tbody tr th:only-of-type {\n",
       "        vertical-align: middle;\n",
       "    }\n",
       "\n",
       "    .dataframe tbody tr th {\n",
       "        vertical-align: top;\n",
       "    }\n",
       "\n",
       "    .dataframe thead th {\n",
       "        text-align: right;\n",
       "    }\n",
       "</style>\n",
       "<table border=\"1\" class=\"dataframe\">\n",
       "  <thead>\n",
       "    <tr style=\"text-align: right;\">\n",
       "      <th></th>\n",
       "      <th>content</th>\n",
       "      <th>label</th>\n",
       "    </tr>\n",
       "  </thead>\n",
       "  <tbody>\n",
       "    <tr>\n",
       "      <th>0</th>\n",
       "      <td>estoy hasta el ojete de que me digáis que teng...</td>\n",
       "      <td>0</td>\n",
       "    </tr>\n",
       "    <tr>\n",
       "      <th>1</th>\n",
       "      <td>@user Por?  Tenía pensado verla después de la ...</td>\n",
       "      <td>1</td>\n",
       "    </tr>\n",
       "    <tr>\n",
       "      <th>2</th>\n",
       "      <td>Esto de estar feliz mola</td>\n",
       "      <td>2</td>\n",
       "    </tr>\n",
       "    <tr>\n",
       "      <th>3</th>\n",
       "      <td>Ya no es tan divertido</td>\n",
       "      <td>0</td>\n",
       "    </tr>\n",
       "    <tr>\n",
       "      <th>4</th>\n",
       "      <td>@user te recuerdo que soy una persona que tien...</td>\n",
       "      <td>1</td>\n",
       "    </tr>\n",
       "    <tr>\n",
       "      <th>...</th>\n",
       "      <td>...</td>\n",
       "      <td>...</td>\n",
       "    </tr>\n",
       "    <tr>\n",
       "      <th>865</th>\n",
       "      <td>@user a mi a las 8.15 que son las 7.15, no too...</td>\n",
       "      <td>1</td>\n",
       "    </tr>\n",
       "    <tr>\n",
       "      <th>866</th>\n",
       "      <td>@user Ah bueno, gracias por estar taaaan pendi...</td>\n",
       "      <td>2</td>\n",
       "    </tr>\n",
       "    <tr>\n",
       "      <th>867</th>\n",
       "      <td>@user Esto es lo más triste :! Pero espero que...</td>\n",
       "      <td>0</td>\n",
       "    </tr>\n",
       "    <tr>\n",
       "      <th>868</th>\n",
       "      <td>@user @user pregunta seria.  para cuando kedad...</td>\n",
       "      <td>1</td>\n",
       "    </tr>\n",
       "    <tr>\n",
       "      <th>869</th>\n",
       "      <td>Nosotras somos muy interesantes, sí. Y no tene...</td>\n",
       "      <td>2</td>\n",
       "    </tr>\n",
       "  </tbody>\n",
       "</table>\n",
       "<p>3033 rows × 2 columns</p>\n",
       "</div>"
      ],
      "text/plain": [
       "                                               content  label\n",
       "0    estoy hasta el ojete de que me digáis que teng...      0\n",
       "1    @user Por?  Tenía pensado verla después de la ...      1\n",
       "2                             Esto de estar feliz mola      2\n",
       "3                               Ya no es tan divertido      0\n",
       "4    @user te recuerdo que soy una persona que tien...      1\n",
       "..                                                 ...    ...\n",
       "865  @user a mi a las 8.15 que son las 7.15, no too...      1\n",
       "866  @user Ah bueno, gracias por estar taaaan pendi...      2\n",
       "867  @user Esto es lo más triste :! Pero espero que...      0\n",
       "868  @user @user pregunta seria.  para cuando kedad...      1\n",
       "869  Nosotras somos muy interesantes, sí. Y no tene...      2\n",
       "\n",
       "[3033 rows x 2 columns]"
      ]
     },
     "execution_count": 15,
     "metadata": {},
     "output_type": "execute_result"
    }
   ],
   "source": [
    "d_hug=pd.concat([d_hug_train,d_hug_val,d_hug_test])\n",
    "d_hug"
   ]
  },
  {
   "cell_type": "markdown",
   "id": "42b87ab4",
   "metadata": {},
   "source": [
    "## Unión DATASETS"
   ]
  },
  {
   "cell_type": "code",
   "execution_count": 16,
   "id": "0426a8af",
   "metadata": {},
   "outputs": [],
   "source": [
    "#se juntan los datset y se eliminan las columnas que no son útiles\n",
    "dataset_completo=pd.concat([d_train, d_dev,d_train_2019,d_dev_2019,d_train_task1,d_dev_task1, junt, junt2,d_hug, d_completo_task2])\n",
    "dataset_completo.reset_index(inplace=True)"
   ]
  },
  {
   "cell_type": "code",
   "execution_count": 17,
   "id": "488d661c",
   "metadata": {},
   "outputs": [
    {
     "data": {
      "text/html": [
       "<div>\n",
       "<style scoped>\n",
       "    .dataframe tbody tr th:only-of-type {\n",
       "        vertical-align: middle;\n",
       "    }\n",
       "\n",
       "    .dataframe tbody tr th {\n",
       "        vertical-align: top;\n",
       "    }\n",
       "\n",
       "    .dataframe thead th {\n",
       "        text-align: right;\n",
       "    }\n",
       "</style>\n",
       "<table border=\"1\" class=\"dataframe\">\n",
       "  <thead>\n",
       "    <tr style=\"text-align: right;\">\n",
       "      <th></th>\n",
       "      <th>tweetid</th>\n",
       "      <th>content</th>\n",
       "      <th>label</th>\n",
       "    </tr>\n",
       "  </thead>\n",
       "  <tbody>\n",
       "    <tr>\n",
       "      <th>1</th>\n",
       "      <td>7.682136e+17</td>\n",
       "      <td>@myendlesshazza a. que puto mal escribo\\n\\nb. ...</td>\n",
       "      <td>0</td>\n",
       "    </tr>\n",
       "    <tr>\n",
       "      <th>2</th>\n",
       "      <td>7.682126e+17</td>\n",
       "      <td>@estherct209 jajajaja la tuya y la d mucha gen...</td>\n",
       "      <td>0</td>\n",
       "    </tr>\n",
       "    <tr>\n",
       "      <th>3</th>\n",
       "      <td>7.682217e+17</td>\n",
       "      <td>Quiero mogollón a @AlbaBenito99 pero sobretodo...</td>\n",
       "      <td>2</td>\n",
       "    </tr>\n",
       "    <tr>\n",
       "      <th>4</th>\n",
       "      <td>7.682210e+17</td>\n",
       "      <td>Vale he visto la tia bebiendose su regla y me ...</td>\n",
       "      <td>0</td>\n",
       "    </tr>\n",
       "    <tr>\n",
       "      <th>5</th>\n",
       "      <td>7.682203e+17</td>\n",
       "      <td>@Yulian_Poe @guillermoterry1 Ah. mucho más por...</td>\n",
       "      <td>2</td>\n",
       "    </tr>\n",
       "    <tr>\n",
       "      <th>...</th>\n",
       "      <td>...</td>\n",
       "      <td>...</td>\n",
       "      <td>...</td>\n",
       "    </tr>\n",
       "    <tr>\n",
       "      <th>14523</th>\n",
       "      <td>8.480000e+02</td>\n",
       "      <td>La gente que os creéis mejor o os sentís \"LOS ...</td>\n",
       "      <td>0</td>\n",
       "    </tr>\n",
       "    <tr>\n",
       "      <th>14524</th>\n",
       "      <td>8.490000e+02</td>\n",
       "      <td>¿Quién les iba a decir a los HASHTAG de HASHTA...</td>\n",
       "      <td>2</td>\n",
       "    </tr>\n",
       "    <tr>\n",
       "      <th>14525</th>\n",
       "      <td>8.500000e+02</td>\n",
       "      <td>Gracias a dios ocurrió lo menos malo  HASHTAG</td>\n",
       "      <td>2</td>\n",
       "    </tr>\n",
       "    <tr>\n",
       "      <th>14526</th>\n",
       "      <td>8.510000e+02</td>\n",
       "      <td>Messi .. El mejor de todos los tiempos 🔟 🇦🇷. U...</td>\n",
       "      <td>2</td>\n",
       "    </tr>\n",
       "    <tr>\n",
       "      <th>14527</th>\n",
       "      <td>8.550000e+02</td>\n",
       "      <td>¡Feliz HASHTAG! 📚 Esperamos que os hayan regal...</td>\n",
       "      <td>2</td>\n",
       "    </tr>\n",
       "  </tbody>\n",
       "</table>\n",
       "<p>14106 rows × 3 columns</p>\n",
       "</div>"
      ],
      "text/plain": [
       "            tweetid                                            content  label\n",
       "1      7.682136e+17  @myendlesshazza a. que puto mal escribo\\n\\nb. ...      0\n",
       "2      7.682126e+17  @estherct209 jajajaja la tuya y la d mucha gen...      0\n",
       "3      7.682217e+17  Quiero mogollón a @AlbaBenito99 pero sobretodo...      2\n",
       "4      7.682210e+17  Vale he visto la tia bebiendose su regla y me ...      0\n",
       "5      7.682203e+17  @Yulian_Poe @guillermoterry1 Ah. mucho más por...      2\n",
       "...             ...                                                ...    ...\n",
       "14523  8.480000e+02  La gente que os creéis mejor o os sentís \"LOS ...      0\n",
       "14524  8.490000e+02  ¿Quién les iba a decir a los HASHTAG de HASHTA...      2\n",
       "14525  8.500000e+02      Gracias a dios ocurrió lo menos malo  HASHTAG      2\n",
       "14526  8.510000e+02  Messi .. El mejor de todos los tiempos 🔟 🇦🇷. U...      2\n",
       "14527  8.550000e+02  ¡Feliz HASHTAG! 📚 Esperamos que os hayan regal...      2\n",
       "\n",
       "[14106 rows x 3 columns]"
      ]
     },
     "execution_count": 17,
     "metadata": {},
     "output_type": "execute_result"
    }
   ],
   "source": [
    "#Limpiamos el resto de valores: los NONE y las columnas innecesarias\n",
    "dataset_completo=dataset_completo.drop(['index','user','lang', 'date','sentiment'], axis=1)\n",
    "dataset_completo.drop(dataset_completo.index[dataset_completo.label==\"NONE\"], inplace=True)\n",
    "#pasamos la etiquetas a valor numericos\n",
    "dataset_completo['label'].replace({\"N\": 0, \"NEU\": 1, \"P\": 2}, inplace=True)\n",
    "dataset_completo"
   ]
  },
  {
   "cell_type": "code",
   "execution_count": 18,
   "id": "b926f73a",
   "metadata": {},
   "outputs": [
    {
     "name": "stdout",
     "output_type": "stream",
     "text": [
      "Número de NEGATIVOS:  6157\n",
      "Número de NEUTROS:  2778\n",
      "Número de POSITIVOS:  5171\n"
     ]
    }
   ],
   "source": [
    "print(\"Número de NEGATIVOS: \" , len(dataset_completo[dataset_completo.label==0]))\n",
    "print(\"Número de NEUTROS: \" , len(dataset_completo[dataset_completo.label==1]))\n",
    "print(\"Número de POSITIVOS: \" , len(dataset_completo[dataset_completo.label==2]))"
   ]
  },
  {
   "cell_type": "code",
   "execution_count": 19,
   "id": "178255c9",
   "metadata": {},
   "outputs": [],
   "source": [
    "# Se baraja el dataset para mezclar todos los tipos\n",
    "dataset_completo=dataset_completo.sample(frac=1).reset_index(drop=True)"
   ]
  },
  {
   "cell_type": "code",
   "execution_count": 19,
   "id": "f36dde9d",
   "metadata": {},
   "outputs": [],
   "source": [
    "dataset_completo.to_csv(\"Dataset_final.csv\")"
   ]
  },
  {
   "cell_type": "markdown",
   "id": "8c9e82f8",
   "metadata": {},
   "source": [
    "## Separar DATASET EN TRAIN, VALIDATION y TEST"
   ]
  },
  {
   "cell_type": "code",
   "execution_count": 20,
   "id": "c24f66e5",
   "metadata": {},
   "outputs": [],
   "source": [
    "dataset_final_train_val=dataset_completo[:11000]\n",
    "dataset_final_test=dataset_completo[11000:]\n",
    "\n",
    "p_train = 0.80 # Porcentaje de train.\n",
    "\n",
    "train_final = dataset_final_train_val[:int((len(dataset_final_train_val))*p_train)] \n",
    "val_final = dataset_final_train_val[int((len(dataset_final_train_val))*p_train):]"
   ]
  },
  {
   "cell_type": "code",
   "execution_count": 21,
   "id": "cc5cebed",
   "metadata": {},
   "outputs": [],
   "source": [
    "train_final.to_csv(\"Dataset_final-train.csv\")\n",
    "val_final.to_csv(\"Dataset_final-val.csv\")\n",
    "dataset_final_test.to_csv(\"Dataset_final-test.csv\")"
   ]
  },
  {
   "cell_type": "code",
   "execution_count": 22,
   "id": "5420377c",
   "metadata": {},
   "outputs": [
    {
     "name": "stdout",
     "output_type": "stream",
     "text": [
      "Downloading and preparing dataset csv/default to C:/Users/Juan/.cache/huggingface/datasets/csv/default-2d323c2d0ea06010/0.0.0/6954658bab30a358235fa864b05cf819af0e179325c740e4bc853bcc7ec513e1...\n"
     ]
    },
    {
     "data": {
      "application/vnd.jupyter.widget-view+json": {
       "model_id": "188372b186d4438180f50627dd0f4313",
       "version_major": 2,
       "version_minor": 0
      },
      "text/plain": [
       "Downloading data files:   0%|          | 0/3 [00:00<?, ?it/s]"
      ]
     },
     "metadata": {},
     "output_type": "display_data"
    },
    {
     "data": {
      "application/vnd.jupyter.widget-view+json": {
       "model_id": "87403bba961748f585dc9de39a0065b3",
       "version_major": 2,
       "version_minor": 0
      },
      "text/plain": [
       "Extracting data files:   0%|          | 0/3 [00:00<?, ?it/s]"
      ]
     },
     "metadata": {},
     "output_type": "display_data"
    },
    {
     "data": {
      "application/vnd.jupyter.widget-view+json": {
       "model_id": "",
       "version_major": 2,
       "version_minor": 0
      },
      "text/plain": [
       "Generating train split: 0 examples [00:00, ? examples/s]"
      ]
     },
     "metadata": {},
     "output_type": "display_data"
    },
    {
     "data": {
      "application/vnd.jupyter.widget-view+json": {
       "model_id": "",
       "version_major": 2,
       "version_minor": 0
      },
      "text/plain": [
       "Generating validation split: 0 examples [00:00, ? examples/s]"
      ]
     },
     "metadata": {},
     "output_type": "display_data"
    },
    {
     "data": {
      "application/vnd.jupyter.widget-view+json": {
       "model_id": "",
       "version_major": 2,
       "version_minor": 0
      },
      "text/plain": [
       "Generating test split: 0 examples [00:00, ? examples/s]"
      ]
     },
     "metadata": {},
     "output_type": "display_data"
    },
    {
     "name": "stdout",
     "output_type": "stream",
     "text": [
      "Dataset csv downloaded and prepared to C:/Users/Juan/.cache/huggingface/datasets/csv/default-2d323c2d0ea06010/0.0.0/6954658bab30a358235fa864b05cf819af0e179325c740e4bc853bcc7ec513e1. Subsequent calls will reuse this data.\n"
     ]
    },
    {
     "data": {
      "application/vnd.jupyter.widget-view+json": {
       "model_id": "708e293f8fef42bba86ca7cfc3e3bf5a",
       "version_major": 2,
       "version_minor": 0
      },
      "text/plain": [
       "  0%|          | 0/3 [00:00<?, ?it/s]"
      ]
     },
     "metadata": {},
     "output_type": "display_data"
    }
   ],
   "source": [
    "# Para pasar al formato datsetrs de huggingface\n",
    "from datasets import load_dataset\n",
    "data_files = {\"train\": \"Dataset_final-train.csv\", \"validation\": \"Dataset_final-val.csv\", \"test\": \"Dataset_final-test.csv\"}\n",
    "df = load_dataset(\"csv\", data_files=data_files)"
   ]
  }
 ],
 "metadata": {
  "kernelspec": {
   "display_name": "Python 3 (ipykernel)",
   "language": "python",
   "name": "python3"
  },
  "language_info": {
   "codemirror_mode": {
    "name": "ipython",
    "version": 3
   },
   "file_extension": ".py",
   "mimetype": "text/x-python",
   "name": "python",
   "nbconvert_exporter": "python",
   "pygments_lexer": "ipython3",
   "version": "3.10.10"
  }
 },
 "nbformat": 4,
 "nbformat_minor": 5
}
